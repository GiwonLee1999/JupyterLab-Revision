{
 "cells": [
  {
   "cell_type": "markdown",
   "id": "d8844305-2463-4c98-aa15-8f67bf12093a",
   "metadata": {},
   "source": [
    "### Part1: Numpy allows multiple dimensional lists of variables."
   ]
  },
  {
   "cell_type": "code",
   "execution_count": 6,
   "id": "aa8e9c25-3c01-4edc-8b0f-8bb181743385",
   "metadata": {
    "editable": true,
    "slideshow": {
     "slide_type": ""
    },
    "tags": []
   },
   "outputs": [],
   "source": [
    "import numpy as np"
   ]
  },
  {
   "cell_type": "code",
   "execution_count": 7,
   "id": "06981936-69ab-4215-b62f-6cd699bcc657",
   "metadata": {},
   "outputs": [
    {
     "name": "stdout",
     "output_type": "stream",
     "text": [
      "[1, 2, 3, 4, 5]\n"
     ]
    }
   ],
   "source": [
    "lst = [1,2,3,4,5]\n",
    "print(lst)"
   ]
  },
  {
   "cell_type": "markdown",
   "id": "c39e1cf0-af41-4c12-9ee9-4d9b5d420259",
   "metadata": {},
   "source": [
    "#### Advantage of Numpy Array over Lists"
   ]
  },
  {
   "cell_type": "code",
   "execution_count": 8,
   "id": "a237b77b-44df-4a1a-a22d-38a9ef16acc4",
   "metadata": {},
   "outputs": [
    {
     "name": "stdout",
     "output_type": "stream",
     "text": [
      "1D Array\n",
      "[1 2 3 4 5]\n",
      "2D Array\n",
      "[[ 1  2  3  4  5]\n",
      " [ 6  7  8  9 10]]\n",
      "3D Array\n",
      "[[[ 1  2  3  4  5]\n",
      "  [ 6  7  8  9 10]\n",
      "  [11 12 13 14 15]]]\n"
     ]
    }
   ],
   "source": [
    "# Initialization of Numpy Arrays\n",
    "print('1D Array')\n",
    "one_D = np.array([1,2,3,4,5])\n",
    "print(one_D)\n",
    "print('2D Array')\n",
    "two_D = np.array([[1,2,3,4,5],[6,7,8,9,10]])\n",
    "print(two_D)\n",
    "print('3D Array')\n",
    "three_D = np.array([[[1,2,3,4,5],[6,7,8,9,10],[11,12,13,14,15]]])\n",
    "print(three_D)\n"
   ]
  },
  {
   "cell_type": "code",
   "execution_count": 9,
   "id": "84cbc290-c5d3-443d-97fd-307cf830dc0b",
   "metadata": {},
   "outputs": [
    {
     "data": {
      "text/plain": [
       "numpy.ndarray"
      ]
     },
     "execution_count": 9,
     "metadata": {},
     "output_type": "execute_result"
    }
   ],
   "source": [
    "type(one_D)\n",
    "type(two_D)\n",
    "type(three_D)"
   ]
  },
  {
   "cell_type": "code",
   "execution_count": 10,
   "id": "64b350b3-6865-4812-9358-6959e4831d98",
   "metadata": {},
   "outputs": [
    {
     "name": "stdout",
     "output_type": "stream",
     "text": [
      "5\n",
      "10\n",
      "15\n"
     ]
    }
   ],
   "source": [
    "## Size of elements\n",
    "print(one_D.size)\n",
    "print(two_D.size)\n",
    "print(three_D.size)"
   ]
  },
  {
   "cell_type": "code",
   "execution_count": 11,
   "id": "b1dcb760-513c-415c-9cae-397a42ab8141",
   "metadata": {},
   "outputs": [
    {
     "name": "stdout",
     "output_type": "stream",
     "text": [
      "(5,)\n",
      "(2, 5)\n",
      "(1, 3, 5)\n"
     ]
    }
   ],
   "source": [
    "## Size of dimension\n",
    "print(one_D.shape)\n",
    "print(two_D.shape)\n",
    "print(three_D.shape) \n",
    "# (1,3,5) means One Array of three Rows and Five Elements"
   ]
  },
  {
   "cell_type": "markdown",
   "id": "37411526-a156-42d6-a35a-d20692a31da0",
   "metadata": {},
   "source": [
    "#### Data Type"
   ]
  },
  {
   "cell_type": "code",
   "execution_count": 12,
   "id": "f699d589-214b-4219-943a-45fc5d7b4b52",
   "metadata": {},
   "outputs": [
    {
     "name": "stdout",
     "output_type": "stream",
     "text": [
      "int32\n",
      "int32\n",
      "int32\n"
     ]
    }
   ],
   "source": [
    "# Type of data presenting in the array\n",
    "print(one_D.dtype)\n",
    "print(two_D.dtype)\n",
    "print(three_D.dtype)"
   ]
  },
  {
   "cell_type": "code",
   "execution_count": 13,
   "id": "da8b63f6-4314-4055-a817-a51fc9020078",
   "metadata": {},
   "outputs": [
    {
     "name": "stdout",
     "output_type": "stream",
     "text": [
      "float64\n"
     ]
    }
   ],
   "source": [
    "# Data type is shown as float tho the majority of elements are Int\n",
    "d = np.array([[1,2,3,4,5],\n",
    "             [4,3.4,2,5,2],\n",
    "             [1,23,4,12,2.1]])\n",
    "print(d.dtype)"
   ]
  },
  {
   "cell_type": "code",
   "execution_count": 14,
   "id": "81d3f92b-7b7d-4e4c-b73e-597fe4ee47cd",
   "metadata": {},
   "outputs": [
    {
     "data": {
      "text/plain": [
       "array([[ 1. ,  4. ,  1. ],\n",
       "       [ 2. ,  3.4, 23. ],\n",
       "       [ 3. ,  2. ,  4. ],\n",
       "       [ 4. ,  5. , 12. ],\n",
       "       [ 5. ,  2. ,  2.1]])"
      ]
     },
     "execution_count": 14,
     "metadata": {},
     "output_type": "execute_result"
    }
   ],
   "source": [
    "# Transpose the array columns and rows.\n",
    "d.transpose()"
   ]
  },
  {
   "cell_type": "markdown",
   "id": "076ced16-b7a4-4d6e-b7fa-20876fc94622",
   "metadata": {},
   "source": [
    "### Part 2: Numpy Basic functions."
   ]
  },
  {
   "cell_type": "code",
   "execution_count": 15,
   "id": "5abf635a-a77d-41a3-a0a9-d257079451b0",
   "metadata": {},
   "outputs": [
    {
     "data": {
      "text/plain": [
       "array([[0.00000000e+000, 0.00000000e+000, 0.00000000e+000,\n",
       "        0.00000000e+000],\n",
       "       [0.00000000e+000, 0.00000000e+000, 0.00000000e+000,\n",
       "        0.00000000e+000],\n",
       "       [0.00000000e+000, 0.00000000e+000, 0.00000000e+000,\n",
       "        0.00000000e+000],\n",
       "       [0.00000000e+000, 1.66880539e-308, 0.00000000e+000,\n",
       "        0.00000000e+000]])"
      ]
     },
     "execution_count": 15,
     "metadata": {},
     "output_type": "execute_result"
    }
   ],
   "source": [
    "# np.empty((rows,cols),dtype = int); generates the Numpy array with random\n",
    "np.empty((4,4),dtype = int)\n",
    "np.empty((4,4),dtype = float)"
   ]
  },
  {
   "cell_type": "code",
   "execution_count": 16,
   "id": "7e1836bb-6ffd-4277-b035-e53977fdef18",
   "metadata": {},
   "outputs": [
    {
     "name": "stdout",
     "output_type": "stream",
     "text": [
      "Displays the 4 columns of ones\n",
      "[1. 1. 1. 1.]\n",
      "Displays the 3 by 5 Arrays of ones\n",
      "[[1. 1. 1. 1. 1.]\n",
      " [1. 1. 1. 1. 1.]\n",
      " [1. 1. 1. 1. 1.]]\n",
      "Displays the 3 by 5 Arrays of ones in Integer\n",
      "[[1 1 1 1 1]\n",
      " [1 1 1 1 1]\n",
      " [1 1 1 1 1]]\n"
     ]
    }
   ],
   "source": [
    "# np.ones((rows,cols),dtype)\n",
    "x = np.ones((4))\n",
    "print(\"Displays the 4 columns of ones\")\n",
    "print(x)\n",
    "\n",
    "y = np.ones((3,5))\n",
    "print(\"Displays the 3 by 5 Arrays of ones\")\n",
    "print(y)\n",
    "\n",
    "z = np.ones((3,5), dtype = int)\n",
    "print(\"Displays the 3 by 5 Arrays of ones in Integer\")\n",
    "print(z)"
   ]
  },
  {
   "cell_type": "code",
   "execution_count": 17,
   "id": "a38e608b-853a-4e22-994d-6a5560ec4d14",
   "metadata": {},
   "outputs": [
    {
     "name": "stdout",
     "output_type": "stream",
     "text": [
      "[['1' '1' '1' '1' '1' '1' '1' '1']\n",
      " ['1' '1' '1' '1' '1' '1' '1' '1']\n",
      " ['1' '1' '1' '1' '1' '1' '1' '1']\n",
      " ['1' '1' '1' '1' '1' '1' '1' '1']]\n"
     ]
    },
    {
     "data": {
      "text/plain": [
       "array([[ True,  True,  True,  True,  True],\n",
       "       [ True,  True,  True,  True,  True],\n",
       "       [ True,  True,  True,  True,  True]])"
      ]
     },
     "execution_count": 17,
     "metadata": {},
     "output_type": "execute_result"
    }
   ],
   "source": [
    "# Same goes for np.zeros((rows,cols), dtype)\n",
    "\n",
    "# When dtype is set to String and Boolean:\n",
    "\n",
    "strArray = np.ones((4,8), dtype = str)\n",
    "print(strArray)\n",
    "strArrayZero = np.zeros((3,5), dtype = str) # Returns an Empty String elements\n",
    "\n",
    "boolArray = np.ones((3,5), dtype = bool)\n",
    "boolArrayZeros = np.ones((3,5), dtype = bool) # Returns False elements only\n",
    "boolArray"
   ]
  },
  {
   "cell_type": "markdown",
   "id": "af3bc534-f05e-4a6f-b51c-ed1d7e08433a",
   "metadata": {},
   "source": [
    "### ** Part3: Numpy Advanced/Practical Functions **"
   ]
  },
  {
   "cell_type": "markdown",
   "id": "ac3378d7-b8f8-4d97-b103-bb608fdc1be6",
   "metadata": {},
   "source": [
    "##### np.arange(start, end, step)\n",
    "just like a for loop"
   ]
  },
  {
   "cell_type": "code",
   "execution_count": 18,
   "id": "50e7fa22-8b2f-478f-90a4-ea5512b15fc3",
   "metadata": {},
   "outputs": [
    {
     "name": "stdout",
     "output_type": "stream",
     "text": [
      "20 elements step by One\n",
      "[ 1  2  3  4  5  6  7  8  9 10 11 12 13 14 15 16 17 18 19]\n"
     ]
    }
   ],
   "source": [
    "a = np.arange(1,20)\n",
    "print(\"20 elements step by One\")\n",
    "print(a)"
   ]
  },
  {
   "cell_type": "code",
   "execution_count": 19,
   "id": "5b02e9ef-ebc4-4bd1-804e-13b3082a83a3",
   "metadata": {},
   "outputs": [
    {
     "name": "stdout",
     "output_type": "stream",
     "text": [
      "One to twenty step by 2\n"
     ]
    },
    {
     "data": {
      "text/plain": [
       "array([ 1,  3,  5,  7,  9, 11, 13, 15, 17, 19])"
      ]
     },
     "execution_count": 19,
     "metadata": {},
     "output_type": "execute_result"
    }
   ],
   "source": [
    "a = np.arange(1,20,2)\n",
    "print(\"One to twenty step by 2\")\n",
    "a"
   ]
  },
  {
   "cell_type": "code",
   "execution_count": 20,
   "id": "9a0da6ea-fa34-4bf9-9b74-fe845f356d0f",
   "metadata": {},
   "outputs": [
    {
     "name": "stdout",
     "output_type": "stream",
     "text": [
      "Two to twenty step by 2\n"
     ]
    },
    {
     "data": {
      "text/plain": [
       "array([ 2,  4,  6,  8, 10, 12, 14, 16, 18])"
      ]
     },
     "execution_count": 20,
     "metadata": {},
     "output_type": "execute_result"
    }
   ],
   "source": [
    "a = np.arange(2,20,2)\n",
    "print(\"Two to twenty step by 2\")\n",
    "a"
   ]
  },
  {
   "cell_type": "markdown",
   "id": "271566f2-17ee-4a88-bd42-46d6a0f91e38",
   "metadata": {},
   "source": [
    "#### arr.reshape((rows,cols))\n"
   ]
  },
  {
   "cell_type": "code",
   "execution_count": 21,
   "id": "4a0133bf-ad4e-4950-b71f-74bef97ba04f",
   "metadata": {},
   "outputs": [
    {
     "data": {
      "text/plain": [
       "array([[ 2,  4,  6],\n",
       "       [ 8, 10, 12],\n",
       "       [14, 16, 18]])"
      ]
     },
     "execution_count": 21,
     "metadata": {},
     "output_type": "execute_result"
    }
   ],
   "source": [
    "a = a.reshape((3,3))\n",
    "a"
   ]
  },
  {
   "cell_type": "code",
   "execution_count": 22,
   "id": "a750481b-82ad-496d-b590-2ceaa0b917fd",
   "metadata": {},
   "outputs": [
    {
     "data": {
      "text/plain": [
       "array([ 1,  3,  5,  7,  9, 11, 13, 15, 17, 19, 21, 23, 25, 27, 29, 31, 33,\n",
       "       35, 37, 39, 41, 43, 45, 47, 49, 51, 53, 55, 57, 59, 61, 63, 65, 67,\n",
       "       69, 71, 73, 75, 77, 79, 81, 83, 85, 87, 89, 91, 93, 95, 97, 99])"
      ]
     },
     "execution_count": 22,
     "metadata": {},
     "output_type": "execute_result"
    }
   ],
   "source": [
    "b = np.arange(1,100,2)\n",
    "b"
   ]
  },
  {
   "cell_type": "code",
   "execution_count": 23,
   "id": "03537fb1-3d69-4923-8c1e-feca1c4d0516",
   "metadata": {},
   "outputs": [
    {
     "data": {
      "text/plain": [
       "array([[ 1,  3,  5,  7,  9],\n",
       "       [11, 13, 15, 17, 19],\n",
       "       [21, 23, 25, 27, 29],\n",
       "       [31, 33, 35, 37, 39],\n",
       "       [41, 43, 45, 47, 49],\n",
       "       [51, 53, 55, 57, 59],\n",
       "       [61, 63, 65, 67, 69],\n",
       "       [71, 73, 75, 77, 79],\n",
       "       [81, 83, 85, 87, 89],\n",
       "       [91, 93, 95, 97, 99]])"
      ]
     },
     "execution_count": 23,
     "metadata": {},
     "output_type": "execute_result"
    }
   ],
   "source": [
    "b = b.reshape((10,5))\n",
    "b"
   ]
  },
  {
   "cell_type": "markdown",
   "id": "307eab1d-b1d7-4ef7-b55c-09cf9e489bb7",
   "metadata": {},
   "source": [
    "### arr.flatten(): inverse function of reshape"
   ]
  },
  {
   "cell_type": "code",
   "execution_count": 24,
   "id": "d308da27-258f-4ecc-a263-431d40063c68",
   "metadata": {},
   "outputs": [
    {
     "data": {
      "text/plain": [
       "array([ 1,  3,  5,  7,  9, 11, 13, 15, 17, 19, 21, 23, 25, 27, 29, 31, 33,\n",
       "       35, 37, 39, 41, 43, 45, 47, 49, 51, 53, 55, 57, 59, 61, 63, 65, 67,\n",
       "       69, 71, 73, 75, 77, 79, 81, 83, 85, 87, 89, 91, 93, 95, 97, 99])"
      ]
     },
     "execution_count": 24,
     "metadata": {},
     "output_type": "execute_result"
    }
   ],
   "source": [
    "b = b.flatten()\n",
    "b"
   ]
  },
  {
   "cell_type": "code",
   "execution_count": 25,
   "id": "1e8d42f2-6df9-4601-9b5a-f38876376167",
   "metadata": {},
   "outputs": [
    {
     "data": {
      "text/plain": [
       "array([ 2,  4,  6,  8, 10, 12, 14, 16, 18])"
      ]
     },
     "execution_count": 25,
     "metadata": {},
     "output_type": "execute_result"
    }
   ],
   "source": [
    "a = a.ravel()\n",
    "a"
   ]
  },
  {
   "cell_type": "markdown",
   "id": "2ae2958a-2992-46bc-a088-d51a786a6721",
   "metadata": {},
   "source": [
    "arr.ravel(): Return only referece/view of original array, if you modify the array you would notice that the value of original array also changes. Ravel is faster than flatten() as it does not occupy any memory. Ravel is a library-level function.\n",
    "\n",
    "arr.flatten(): Return copy of original array, if you modify any value of this array value of original array is not affected. Flatten() is comparatively slower than ravel() as it occupies memory. Flatten is a method of an ndarray object."
   ]
  },
  {
   "cell_type": "code",
   "execution_count": 26,
   "id": "024ee39a-9bf7-4804-84aa-0119fbe4879d",
   "metadata": {},
   "outputs": [
    {
     "name": "stdout",
     "output_type": "stream",
     "text": [
      "[[ 0  1  2  3  4]\n",
      " [ 5  6  7  8  9]\n",
      " [10 11 12 13 14]\n",
      " [15 16 17 18 19]\n",
      " [20 21 22 23 24]\n",
      " [25 26 27 28 29]\n",
      " [30 31 32 33 34]\n",
      " [35 36 37 38 39]\n",
      " [40 41 42 43 44]\n",
      " [45 46 47 48 49]]\n",
      "[0 1 2 3 4]\n",
      "[5 6 7 8 9]\n",
      "[10 11 12 13 14]\n",
      "0\n",
      "19\n"
     ]
    }
   ],
   "source": [
    "# How to \n",
    "a = np.arange(0,50)\n",
    "a = a.reshape(10,5)\n",
    "print(a)\n",
    "print(a[0])\n",
    "print(a[1])\n",
    "print(a[2])\n",
    "print(a[0][0])\n",
    "print(a[3,4]) # Returns fourth row, and fifth column"
   ]
  },
  {
   "cell_type": "code",
   "execution_count": 27,
   "id": "08252ef0-da27-459c-b580-a3facf8c2f1c",
   "metadata": {},
   "outputs": [
    {
     "name": "stdout",
     "output_type": "stream",
     "text": [
      "[[15 16 17 18 19]\n",
      " [20 21 22 23 24]]\n"
     ]
    }
   ],
   "source": [
    "print(a[3:5]) # Returns third index to fourth index"
   ]
  },
  {
   "cell_type": "code",
   "execution_count": 28,
   "id": "c0eb0e2e-e68e-4a4b-9104-67609cd01c3e",
   "metadata": {},
   "outputs": [
    {
     "name": "stdout",
     "output_type": "stream",
     "text": [
      "[[ 0  1  2  3  4]\n",
      " [ 5  6  7  8  9]\n",
      " [10 11 12 13 14]\n",
      " [15 16 17 18 19]\n",
      " [20 21 22 23 24]\n",
      " [25 26 27 28 29]\n",
      " [30 31 32 33 34]\n",
      " [35 36 37 38 39]\n",
      " [40 41 42 43 44]\n",
      " [45 46 47 48 49]]\n"
     ]
    }
   ],
   "source": [
    "print(a[0:100]) # Returns whatsoever "
   ]
  },
  {
   "cell_type": "code",
   "execution_count": 29,
   "id": "8a93f151-3eef-4d13-9aa3-89c65aebfa1a",
   "metadata": {},
   "outputs": [
    {
     "data": {
      "text/plain": [
       "dtype('int32')"
      ]
     },
     "execution_count": 29,
     "metadata": {},
     "output_type": "execute_result"
    }
   ],
   "source": [
    "a[:2] # All the rows until second index\n",
    "a[:, 2] # All the rows, second column\n",
    "a[:, 2:4]\n",
    "a[:, 2:4].dtype"
   ]
  },
  {
   "cell_type": "markdown",
   "id": "5ef47aca-94de-401d-955a-883d282484bb",
   "metadata": {},
   "source": [
    "### Part5: Combination of functions"
   ]
  },
  {
   "cell_type": "code",
   "execution_count": 30,
   "id": "589f7934-c6e6-4a13-9e21-c5dcbd938869",
   "metadata": {},
   "outputs": [
    {
     "name": "stdout",
     "output_type": "stream",
     "text": [
      "[[ 0  1  2]\n",
      " [ 3  4  5]\n",
      " [ 6  7  8]\n",
      " [ 9 10 11]\n",
      " [12 13 14]\n",
      " [15 16 17]]\n",
      "[[20 21 22]\n",
      " [23 24 25]\n",
      " [26 27 28]\n",
      " [29 30 31]\n",
      " [32 33 34]\n",
      " [35 36 37]]\n"
     ]
    }
   ],
   "source": [
    "a = np.arange(0,18).reshape((6,3))\n",
    "b = np.arange(20,38).reshape((6,3))\n",
    "print(a)\n",
    "print(b)"
   ]
  },
  {
   "cell_type": "code",
   "execution_count": 31,
   "id": "24283372-8650-4893-951e-1bf92d19c63f",
   "metadata": {},
   "outputs": [
    {
     "data": {
      "text/plain": [
       "array([[20, 22, 24],\n",
       "       [26, 28, 30],\n",
       "       [32, 34, 36],\n",
       "       [38, 40, 42],\n",
       "       [44, 46, 48],\n",
       "       [50, 52, 54]])"
      ]
     },
     "execution_count": 31,
     "metadata": {},
     "output_type": "execute_result"
    }
   ],
   "source": [
    "# Add elements respectively\n",
    "a + b"
   ]
  },
  {
   "cell_type": "code",
   "execution_count": 32,
   "id": "9684039a-e6b5-4a65-8e81-ebfffff0914e",
   "metadata": {},
   "outputs": [
    {
     "data": {
      "text/plain": [
       "array([[-20, -20, -20],\n",
       "       [-20, -20, -20],\n",
       "       [-20, -20, -20],\n",
       "       [-20, -20, -20],\n",
       "       [-20, -20, -20],\n",
       "       [-20, -20, -20]])"
      ]
     },
     "execution_count": 32,
     "metadata": {},
     "output_type": "execute_result"
    }
   ],
   "source": [
    "a - b"
   ]
  },
  {
   "cell_type": "code",
   "execution_count": 33,
   "id": "93c87be0-12fa-4537-a40e-e6bd511a1528",
   "metadata": {},
   "outputs": [
    {
     "data": {
      "text/plain": [
       "array([[-20, -20, -20],\n",
       "       [-20, -20, -20],\n",
       "       [-20, -20, -20],\n",
       "       [-20, -20, -20],\n",
       "       [-20, -20, -20],\n",
       "       [-20, -20, -20]])"
      ]
     },
     "execution_count": 33,
     "metadata": {},
     "output_type": "execute_result"
    }
   ],
   "source": [
    "np.subtract(a,b)"
   ]
  },
  {
   "cell_type": "code",
   "execution_count": 34,
   "id": "74bc88d1-1ff2-4056-bd8a-8566ef17fc46",
   "metadata": {},
   "outputs": [
    {
     "data": {
      "text/plain": [
       "array([[  0,  21,  44],\n",
       "       [ 69,  96, 125],\n",
       "       [156, 189, 224],\n",
       "       [261, 300, 341],\n",
       "       [384, 429, 476],\n",
       "       [525, 576, 629]])"
      ]
     },
     "execution_count": 34,
     "metadata": {},
     "output_type": "execute_result"
    }
   ],
   "source": [
    "a*b\n",
    "np.multiply(a,b)"
   ]
  },
  {
   "cell_type": "code",
   "execution_count": 35,
   "id": "f76bafe4-afb7-437e-a014-060a4a9c02c1",
   "metadata": {},
   "outputs": [
    {
     "data": {
      "text/plain": [
       "array([[0.        , 0.04761905, 0.09090909],\n",
       "       [0.13043478, 0.16666667, 0.2       ],\n",
       "       [0.23076923, 0.25925926, 0.28571429],\n",
       "       [0.31034483, 0.33333333, 0.35483871],\n",
       "       [0.375     , 0.39393939, 0.41176471],\n",
       "       [0.42857143, 0.44444444, 0.45945946]])"
      ]
     },
     "execution_count": 35,
     "metadata": {},
     "output_type": "execute_result"
    }
   ],
   "source": [
    "a/b\n",
    "np.divide(a,b)"
   ]
  },
  {
   "cell_type": "code",
   "execution_count": 36,
   "id": "91d8f97c-c324-4463-9ea5-c20349a591f1",
   "metadata": {},
   "outputs": [
    {
     "name": "stdout",
     "output_type": "stream",
     "text": [
      "(6, 3)\n",
      "(3, 6)\n",
      "[[ 0  1  2]\n",
      " [ 3  4  5]\n",
      " [ 6  7  8]\n",
      " [ 9 10 11]\n",
      " [12 13 14]\n",
      " [15 16 17]]\n",
      "[[20 21 22 23 24 25]\n",
      " [26 27 28 29 30 31]\n",
      " [32 33 34 35 36 37]]\n"
     ]
    },
    {
     "data": {
      "text/plain": [
       "array([[  90,   93,   96,   99,  102,  105],\n",
       "       [ 324,  336,  348,  360,  372,  384],\n",
       "       [ 558,  579,  600,  621,  642,  663],\n",
       "       [ 792,  822,  852,  882,  912,  942],\n",
       "       [1026, 1065, 1104, 1143, 1182, 1221],\n",
       "       [1260, 1308, 1356, 1404, 1452, 1500]])"
      ]
     },
     "execution_count": 36,
     "metadata": {},
     "output_type": "execute_result"
    }
   ],
   "source": [
    "b = b.reshape((3,6))\n",
    "print(a.shape)\n",
    "print(b.shape)\n",
    "\n",
    "print(a)\n",
    "print(b)\n",
    "# Matrix multiplication Rows and Cols must match inversely between two arrays\n",
    "a@b"
   ]
  },
  {
   "cell_type": "code",
   "execution_count": 37,
   "id": "9c6932b6-ba5e-4423-b5d0-a6668f46b490",
   "metadata": {},
   "outputs": [
    {
     "data": {
      "text/plain": [
       "array([[  90,   93,   96,   99,  102,  105],\n",
       "       [ 324,  336,  348,  360,  372,  384],\n",
       "       [ 558,  579,  600,  621,  642,  663],\n",
       "       [ 792,  822,  852,  882,  912,  942],\n",
       "       [1026, 1065, 1104, 1143, 1182, 1221],\n",
       "       [1260, 1308, 1356, 1404, 1452, 1500]])"
      ]
     },
     "execution_count": 37,
     "metadata": {},
     "output_type": "execute_result"
    }
   ],
   "source": [
    "a.dot(b)"
   ]
  },
  {
   "cell_type": "code",
   "execution_count": 38,
   "id": "1beb59e1-3686-4566-8fd9-a4fdc3b76375",
   "metadata": {},
   "outputs": [
    {
     "name": "stdout",
     "output_type": "stream",
     "text": [
      "37\n",
      "20\n",
      "17\n",
      "513\n"
     ]
    }
   ],
   "source": [
    "print(b.max()) # Max element\n",
    "print(b.min()) # Min element\n",
    "print(b.argmax()) # length\n",
    "\n",
    "print(np.sum(b)) # Sum of all the elements"
   ]
  },
  {
   "cell_type": "code",
   "execution_count": 39,
   "id": "3b0fc27e-5404-4fb6-a04d-09503890acc5",
   "metadata": {},
   "outputs": [
    {
     "data": {
      "text/plain": [
       "array([135, 171, 207])"
      ]
     },
     "execution_count": 39,
     "metadata": {},
     "output_type": "execute_result"
    }
   ],
   "source": [
    "np.sum(b, axis = 1) # returns the sum of each row"
   ]
  },
  {
   "cell_type": "code",
   "execution_count": 40,
   "id": "caac645f-e24c-4e2c-b172-bd7dddf1a55a",
   "metadata": {},
   "outputs": [
    {
     "data": {
      "text/plain": [
       "array([78, 81, 84, 87, 90, 93])"
      ]
     },
     "execution_count": 40,
     "metadata": {},
     "output_type": "execute_result"
    }
   ],
   "source": [
    "np.sum(b, axis = 0) # returns the Col of each row"
   ]
  },
  {
   "cell_type": "code",
   "execution_count": 41,
   "id": "6da5ba4a-e3ef-481d-a503-ce0fb5d57329",
   "metadata": {},
   "outputs": [
    {
     "data": {
      "text/plain": [
       "array([22.5, 28.5, 34.5])"
      ]
     },
     "execution_count": 41,
     "metadata": {},
     "output_type": "execute_result"
    }
   ],
   "source": [
    "np.mean(b, axis = 1)"
   ]
  },
  {
   "cell_type": "code",
   "execution_count": 42,
   "id": "bbbfd215-8f23-4902-8205-6e98e6797713",
   "metadata": {},
   "outputs": [
    {
     "data": {
      "text/plain": [
       "array([[4.47213595, 4.58257569, 4.69041576, 4.79583152, 4.89897949,\n",
       "        5.        ],\n",
       "       [5.09901951, 5.19615242, 5.29150262, 5.38516481, 5.47722558,\n",
       "        5.56776436],\n",
       "       [5.65685425, 5.74456265, 5.83095189, 5.91607978, 6.        ,\n",
       "        6.08276253]])"
      ]
     },
     "execution_count": 42,
     "metadata": {},
     "output_type": "execute_result"
    }
   ],
   "source": [
    "np.sqrt(b)"
   ]
  },
  {
   "cell_type": "code",
   "execution_count": 43,
   "id": "382d5c3d-6645-4d2a-b4dc-8844f4b7b9f3",
   "metadata": {},
   "outputs": [
    {
     "data": {
      "text/plain": [
       "array([1.70782513, 1.70782513, 1.70782513])"
      ]
     },
     "execution_count": 43,
     "metadata": {},
     "output_type": "execute_result"
    }
   ],
   "source": [
    "np.std(b, axis = 1)"
   ]
  },
  {
   "cell_type": "code",
   "execution_count": 44,
   "id": "0e6e6012-6075-4100-84ef-0ae7fe45d0a3",
   "metadata": {},
   "outputs": [
    {
     "data": {
      "text/plain": [
       "array([[2.99573227, 3.04452244, 3.09104245, 3.13549422, 3.17805383,\n",
       "        3.21887582],\n",
       "       [3.25809654, 3.29583687, 3.33220451, 3.36729583, 3.40119738,\n",
       "        3.4339872 ],\n",
       "       [3.4657359 , 3.49650756, 3.52636052, 3.55534806, 3.58351894,\n",
       "        3.61091791]])"
      ]
     },
     "execution_count": 44,
     "metadata": {},
     "output_type": "execute_result"
    }
   ],
   "source": [
    "np.log(b)"
   ]
  },
  {
   "cell_type": "markdown",
   "id": "763b61f9-6b02-4e5f-9774-01315599ea86",
   "metadata": {},
   "source": [
    "#### *** Part 6 ***"
   ]
  },
  {
   "cell_type": "code",
   "execution_count": 100,
   "id": "9a70d90b-ae6e-4eba-8433-412dfed239ee",
   "metadata": {},
   "outputs": [],
   "source": [
    "import matplotlib.pyplot as plt\n",
    "plt.style.use('dark_background')"
   ]
  },
  {
   "cell_type": "code",
   "execution_count": 55,
   "id": "f5e614e0-8f2b-4df5-b8ae-18f4c0827430",
   "metadata": {},
   "outputs": [
    {
     "data": {
      "text/plain": [
       "3.141592653589793"
      ]
     },
     "execution_count": 55,
     "metadata": {},
     "output_type": "execute_result"
    }
   ],
   "source": [
    "np.pi"
   ]
  },
  {
   "cell_type": "code",
   "execution_count": 56,
   "id": "44429993-d3fd-4f51-9b3b-6fee71186a1d",
   "metadata": {},
   "outputs": [
    {
     "data": {
      "text/plain": [
       "1.0"
      ]
     },
     "execution_count": 56,
     "metadata": {},
     "output_type": "execute_result"
    }
   ],
   "source": [
    "np.sin(np.pi/2)"
   ]
  },
  {
   "cell_type": "code",
   "execution_count": 58,
   "id": "9ae26e8b-0153-4fdd-a971-e54bd33e15c4",
   "metadata": {},
   "outputs": [
    {
     "data": {
      "text/plain": [
       "0.49999999999999994"
      ]
     },
     "execution_count": 58,
     "metadata": {},
     "output_type": "execute_result"
    }
   ],
   "source": [
    "np.sin(np.pi/6)"
   ]
  },
  {
   "cell_type": "code",
   "execution_count": 60,
   "id": "79bde734-d140-46c9-a3d4-8f9bdf8e6eac",
   "metadata": {},
   "outputs": [
    {
     "data": {
      "text/plain": [
       "6.123233995736766e-17"
      ]
     },
     "execution_count": 60,
     "metadata": {},
     "output_type": "execute_result"
    }
   ],
   "source": [
    "np.cos(np.pi/2)"
   ]
  },
  {
   "cell_type": "code",
   "execution_count": 61,
   "id": "fca7aa95-8bcc-40b1-9ca7-f12dac683eb7",
   "metadata": {},
   "outputs": [
    {
     "data": {
      "text/plain": [
       "1.633123935319537e+16"
      ]
     },
     "execution_count": 61,
     "metadata": {},
     "output_type": "execute_result"
    }
   ],
   "source": [
    "np.tan(np.pi/2)"
   ]
  },
  {
   "cell_type": "code",
   "execution_count": 63,
   "id": "83c47b46-40e6-4c04-83f9-c36ac2024cda",
   "metadata": {},
   "outputs": [
    {
     "data": {
      "text/plain": [
       "0.0"
      ]
     },
     "execution_count": 63,
     "metadata": {},
     "output_type": "execute_result"
    }
   ],
   "source": [
    "np.tan(0)"
   ]
  },
  {
   "cell_type": "markdown",
   "id": "00bc28d2-bbf0-47b3-940e-a6ea1482fbea",
   "metadata": {},
   "source": [
    "Using Matplotlib with numpy"
   ]
  },
  {
   "cell_type": "code",
   "execution_count": 71,
   "id": "4e5ba4d1-ae79-46b3-8e6c-f183b4e2ed19",
   "metadata": {},
   "outputs": [
    {
     "data": {
      "image/png": "[encoded data removed]",
      "text/plain": [
       "<Figure size 600x600 with 1 Axes>"
      ]
     },
     "metadata": {},
     "output_type": "display_data"
    }
   ],
   "source": [
    "x = np.arange(1,11)\n",
    "y = np.arange(10,110,10)\n",
    "\n",
    "plt.figure(figsize = (6,6))\n",
    "plt.plot(x,y, 'r--')\n",
    "plt.show()"
   ]
  },
  {
   "cell_type": "markdown",
   "id": "375360de-585c-4e17-9eab-4660c089c23b",
   "metadata": {},
   "source": [
    "Plotting Trigonometric Curves"
   ]
  },
  {
   "cell_type": "code",
   "execution_count": 78,
   "id": "4ddb89a8-349a-4962-84bf-09708cb9b1f7",
   "metadata": {},
   "outputs": [
    {
     "name": "stdout",
     "output_type": "stream",
     "text": [
      "[ 0.          0.09983342  0.19866933  0.29552021  0.38941834  0.47942554\n",
      "  0.56464247  0.64421769  0.71735609  0.78332691  0.84147098  0.89120736\n",
      "  0.93203909  0.96355819  0.98544973  0.99749499  0.9995736   0.99166481\n",
      "  0.97384763  0.94630009  0.90929743  0.86320937  0.8084964   0.74570521\n",
      "  0.67546318  0.59847214  0.51550137  0.42737988  0.33498815  0.23924933\n",
      "  0.14112001  0.04158066 -0.05837414 -0.15774569 -0.2555411  -0.35078323\n",
      " -0.44252044 -0.52983614 -0.61185789 -0.68776616 -0.7568025  -0.81827711\n",
      " -0.87157577 -0.91616594 -0.95160207 -0.97753012 -0.993691   -0.99992326\n",
      " -0.99616461 -0.98245261 -0.95892427 -0.92581468 -0.88345466 -0.83226744\n",
      " -0.77276449 -0.70554033 -0.63126664 -0.55068554 -0.46460218 -0.37387666\n",
      " -0.2794155  -0.1821625  -0.0830894 ]\n"
     ]
    }
   ],
   "source": [
    "x_sin = np.arange(0, 2*np.pi, 0.1)\n",
    "y_sin = np.sin(x_sin)\n",
    "\n",
    "print(y_sin)"
   ]
  },
  {
   "cell_type": "code",
   "execution_count": 81,
   "id": "df2907da-40ff-4e14-972d-8a4af1b61ded",
   "metadata": {},
   "outputs": [
    {
     "data": {
      "image/png": "[encoded data removed]",
      "text/plain": [
       "<Figure size 600x600 with 1 Axes>"
      ]
     },
     "metadata": {},
     "output_type": "display_data"
    }
   ],
   "source": [
    "plt.figure(figsize = (6,6))\n",
    "plt.plot(x_sin,y_sin)\n",
    "plt.title('Sin Curve')\n",
    "plt.show()"
   ]
  },
  {
   "cell_type": "code",
   "execution_count": 88,
   "id": "75bb9f73-df1f-413f-b465-5fa1cf058c5c",
   "metadata": {},
   "outputs": [
    {
     "data": {
      "image/png": "[encoded data removed]",
      "text/plain": [
       "<Figure size 600x600 with 1 Axes>"
      ]
     },
     "metadata": {},
     "output_type": "display_data"
    }
   ],
   "source": [
    "x_cos = np.arange(-1.5, 4*np.pi, 0.1)\n",
    "y_cos = np.cos(x_cos)\n",
    "\n",
    "plt.figure(figsize = (6,6))\n",
    "plt.plot(x_cos, y_cos)\n",
    "plt.title('Cos Curve')\n",
    "plt.show()"
   ]
  },
  {
   "cell_type": "code",
   "execution_count": 92,
   "id": "1a2f85da-b4ab-432f-bb3f-e64f5e91aa50",
   "metadata": {},
   "outputs": [
    {
     "data": {
      "image/png": "[encoded data removed]",
      "text/plain": [
       "<Figure size 600x600 with 1 Axes>"
      ]
     },
     "metadata": {},
     "output_type": "display_data"
    }
   ],
   "source": [
    "x_tan = np.arange(-1.5, 4*np.pi, 0.1)\n",
    "y_tan = np.tan(x_tan)\n",
    "\n",
    "plt.figure(figsize = (6,6))\n",
    "plt.plot(x_tan, y_tan)\n",
    "plt.title('Cos Curve')\n",
    "plt.show()"
   ]
  },
  {
   "cell_type": "code",
   "execution_count": 97,
   "id": "d1c16da9-fc18-413b-824e-638bec569889",
   "metadata": {},
   "outputs": [
    {
     "name": "stderr",
     "output_type": "stream",
     "text": [
      "C:\\Users\\210818ai\\AppData\\Local\\Temp\\ipykernel_106440\\146408094.py:2: RuntimeWarning: divide by zero encountered in divide\n",
      "  y_cot = 1/np.tan(x_cot)\n"
     ]
    },
    {
     "data": {
      "image/png": "[encoded data removed]",
      "text/plain": [
       "<Figure size 600x600 with 1 Axes>"
      ]
     },
     "metadata": {},
     "output_type": "display_data"
    }
   ],
   "source": [
    "x_cot = np.arange(0, 2*np.pi, 0.1)\n",
    "y_cot = 1/np.tan(x_cot)\n",
    "\n",
    "plt.figure(figsize = (6,6))\n",
    "plt.plot(x_cot, y_cot)\n",
    "plt.title('Cot Curve')\n",
    "plt.show()"
   ]
  },
  {
   "cell_type": "code",
   "execution_count": 104,
   "id": "8ae7d789-f8ab-4c2e-8e19-9082f9d66a72",
   "metadata": {},
   "outputs": [
    {
     "data": {
      "text/plain": [
       "Text(0.5, 1.0, 'Cot curve')"
      ]
     },
     "execution_count": 104,
     "metadata": {},
     "output_type": "execute_result"
    },
    {
     "data": {
      "image/png": "[encoded data removed]",
      "text/plain": [
       "<Figure size 600x600 with 4 Axes>"
      ]
     },
     "metadata": {},
     "output_type": "display_data"
    }
   ],
   "source": [
    "plt.figure(figsize = (6,6))\n",
    "plt.subplot(2,2,1)\n",
    "plt.plot(x_sin, y_sin, 'r-')\n",
    "plt.title('Sin curve')\n",
    "\n",
    "plt.subplot(2,2,2)\n",
    "plt.plot(x_cos, y_cos, 'b-')\n",
    "plt.title('Cos curve')\n",
    "\n",
    "plt.subplot(2,2,3)\n",
    "plt.plot(x_tan, y_tan, 'g-')\n",
    "plt.title('Tan curve')\n",
    "\n",
    "plt.subplot(2,2,4)\n",
    "plt.plot(x_cot, y_cot, 'w-')\n",
    "plt.title('Cot curve')"
   ]
  },
  {
   "cell_type": "markdown",
   "id": "16d58b88-9382-421e-a50f-b79ff2b77bc8",
   "metadata": {},
   "source": [
    "### ** Part 7 **"
   ]
  },
  {
   "cell_type": "code",
   "execution_count": 149,
   "id": "e425ff8f-a3a9-4e1b-8f23-4830b7ebd118",
   "metadata": {},
   "outputs": [
    {
     "data": {
      "text/plain": [
       "array([0.25174092])"
      ]
     },
     "execution_count": 149,
     "metadata": {},
     "output_type": "execute_result"
    }
   ],
   "source": [
    "np.random.random(1) # Array of random float numbers"
   ]
  },
  {
   "cell_type": "code",
   "execution_count": 152,
   "id": "371e2880-518d-48f4-9f85-db1e482e55d4",
   "metadata": {},
   "outputs": [
    {
     "data": {
      "text/plain": [
       "array([0.46101787, 0.49873809, 0.823817  ])"
      ]
     },
     "execution_count": 152,
     "metadata": {},
     "output_type": "execute_result"
    }
   ],
   "source": [
    "np.random.random(3) # 3 Elements"
   ]
  },
  {
   "cell_type": "code",
   "execution_count": 155,
   "id": "778567e8-5128-4676-a0d6-cd41977354ff",
   "metadata": {},
   "outputs": [
    {
     "data": {
      "text/plain": [
       "array([[0.93700291, 0.25431916],\n",
       "       [0.99202365, 0.31647093]])"
      ]
     },
     "execution_count": 155,
     "metadata": {},
     "output_type": "execute_result"
    }
   ],
   "source": [
    "np.random.random((2,2)) # tuple two dimensional arrays"
   ]
  },
  {
   "cell_type": "code",
   "execution_count": 165,
   "id": "a11a62ad-1d16-4072-9649-299ec2a61288",
   "metadata": {},
   "outputs": [
    {
     "data": {
      "text/plain": [
       "6"
      ]
     },
     "execution_count": 165,
     "metadata": {},
     "output_type": "execute_result"
    }
   ],
   "source": [
    "np.random.randint(1,10) # randome integer between 1,10"
   ]
  },
  {
   "cell_type": "code",
   "execution_count": 168,
   "id": "574bcb68-1da6-4df3-90d3-7094dc689da4",
   "metadata": {},
   "outputs": [
    {
     "data": {
      "text/plain": [
       "array([[8, 3],\n",
       "       [6, 4]])"
      ]
     },
     "execution_count": 168,
     "metadata": {},
     "output_type": "execute_result"
    }
   ],
   "source": [
    "np.random.randint(1,10, (2,2)) # random int, two by two dimensional array"
   ]
  },
  {
   "cell_type": "code",
   "execution_count": 209,
   "id": "2034fff8-d646-43ce-b111-41b9b5f1a308",
   "metadata": {},
   "outputs": [
    {
     "data": {
      "text/plain": [
       "array([[[4, 5, 9, 5, 4],\n",
       "        [2, 6, 9, 3, 1],\n",
       "        [7, 4, 9, 4, 4],\n",
       "        [5, 9, 9, 2, 8]],\n",
       "\n",
       "       [[3, 4, 8, 6, 1],\n",
       "        [4, 1, 1, 3, 5],\n",
       "        [7, 3, 5, 9, 6],\n",
       "        [7, 8, 9, 3, 8]],\n",
       "\n",
       "       [[2, 1, 2, 5, 8],\n",
       "        [9, 4, 9, 6, 5],\n",
       "        [6, 6, 8, 3, 3],\n",
       "        [8, 6, 8, 5, 3]]])"
      ]
     },
     "execution_count": 209,
     "metadata": {},
     "output_type": "execute_result"
    }
   ],
   "source": [
    "np.random.randint(1,10, (3,4,5)) # Generates 3 dimensional arrays, 3 of 4 rows and 5 columns "
   ]
  },
  {
   "cell_type": "code",
   "execution_count": 222,
   "id": "7c86bbf0-66b1-4cf9-94fb-147dada1d4ba",
   "metadata": {},
   "outputs": [
    {
     "data": {
      "text/plain": [
       "array([[0.63580658, 0.73267942],\n",
       "       [0.97198073, 0.09975539]])"
      ]
     },
     "execution_count": 222,
     "metadata": {},
     "output_type": "execute_result"
    }
   ],
   "source": [
    "np.random.rand(2,2) # rand is float value, the parameter is only for the size"
   ]
  },
  {
   "cell_type": "code",
   "execution_count": 225,
   "id": "802ac2b4-3373-4b6e-b89c-5cfa7f3e2341",
   "metadata": {},
   "outputs": [
    {
     "data": {
      "text/plain": [
       "array([[-0.35563798,  0.65716261],\n",
       "       [ 0.20017766,  0.20994829]])"
      ]
     },
     "execution_count": 225,
     "metadata": {},
     "output_type": "execute_result"
    }
   ],
   "source": [
    "np.random.randn(2,2) # by adding n, it generates negative value"
   ]
  },
  {
   "cell_type": "code",
   "execution_count": 241,
   "id": "77bde47f-47a6-4303-9fe3-227dcf421eb5",
   "metadata": {},
   "outputs": [
    {
     "name": "stdout",
     "output_type": "stream",
     "text": [
      "[ 1  2  3  4  5  6  7  8  9 10 11 12 13 14]\n"
     ]
    }
   ],
   "source": [
    "a = np.arange(1,15)\n",
    "print(a)"
   ]
  },
  {
   "cell_type": "code",
   "execution_count": 243,
   "id": "4ee59696-5e80-4d13-83c3-60732f1c6681",
   "metadata": {},
   "outputs": [
    {
     "data": {
      "text/plain": [
       "2"
      ]
     },
     "execution_count": 243,
     "metadata": {},
     "output_type": "execute_result"
    }
   ],
   "source": [
    "np.random.choice(a)"
   ]
  },
  {
   "cell_type": "markdown",
   "id": "4dd8e007-af8c-4a02-9aad-b434f4958f79",
   "metadata": {},
   "source": [
    "### ** Part 8 **"
   ]
  },
  {
   "cell_type": "code",
   "execution_count": 244,
   "id": "8d249e8c-15d1-4fe7-a055-eb35b5dc6023",
   "metadata": {},
   "outputs": [],
   "source": [
    "s1 = 'Giwon is my name'\n",
    "s2 = 'I am an Korean'"
   ]
  },
  {
   "cell_type": "code",
   "execution_count": 246,
   "id": "3b7add70-57f5-4e49-834e-597af5118c7f",
   "metadata": {},
   "outputs": [
    {
     "data": {
      "text/plain": [
       "array('Giwon is my nameI am an Korean', dtype='<U30')"
      ]
     },
     "execution_count": 246,
     "metadata": {},
     "output_type": "execute_result"
    }
   ],
   "source": [
    "np.char.add(s1,s2)"
   ]
  },
  {
   "cell_type": "code",
   "execution_count": 248,
   "id": "0733df3a-2791-455c-a82e-60014d2968ce",
   "metadata": {},
   "outputs": [
    {
     "data": {
      "text/plain": [
       "array('GIWON IS MY NAME', dtype='<U16')"
      ]
     },
     "execution_count": 248,
     "metadata": {},
     "output_type": "execute_result"
    }
   ],
   "source": [
    "np.char.upper(s1)"
   ]
  },
  {
   "cell_type": "code",
   "execution_count": 250,
   "id": "82d95942-b0f4-4762-959c-04f6c917b580",
   "metadata": {},
   "outputs": [
    {
     "data": {
      "text/plain": [
       "array('i am an korean', dtype='<U14')"
      ]
     },
     "execution_count": 250,
     "metadata": {},
     "output_type": "execute_result"
    }
   ],
   "source": [
    "np.char.lower(s2)"
   ]
  },
  {
   "cell_type": "code",
   "execution_count": 252,
   "id": "218716b8-251f-4510-817a-b8bdb0dc0a33",
   "metadata": {},
   "outputs": [
    {
     "data": {
      "text/plain": [
       "array(list(['Giwon', 'is', 'my', 'name']), dtype=object)"
      ]
     },
     "execution_count": 252,
     "metadata": {},
     "output_type": "execute_result"
    }
   ],
   "source": [
    "np.char.split(s1)"
   ]
  },
  {
   "cell_type": "code",
   "execution_count": 254,
   "id": "58f567d3-d9af-4316-946f-93f9dd654ddc",
   "metadata": {},
   "outputs": [
    {
     "data": {
      "text/plain": [
       "array('Giwon is my firstname', dtype='<U21')"
      ]
     },
     "execution_count": 254,
     "metadata": {},
     "output_type": "execute_result"
    }
   ],
   "source": [
    "np.char.replace(s1, 'name', 'firstname')"
   ]
  },
  {
   "cell_type": "code",
   "execution_count": 257,
   "id": "5ccb6d1a-eb65-4165-b26d-293bf6fa73c8",
   "metadata": {},
   "outputs": [
    {
     "data": {
      "text/plain": [
       "array(list(['Giwon is my', 'name']), dtype=object)"
      ]
     },
     "execution_count": 257,
     "metadata": {},
     "output_type": "execute_result"
    }
   ],
   "source": [
    "s3 = 'Giwon is my\\nname'\n",
    "np.char.splitlines(s3)"
   ]
  },
  {
   "cell_type": "code",
   "execution_count": 259,
   "id": "2ae1ed00-46dc-419c-aead-6a089816b27f",
   "metadata": {},
   "outputs": [
    {
     "data": {
      "text/plain": [
       "array('Giwon is my sirname', dtype='<U19')"
      ]
     },
     "execution_count": 259,
     "metadata": {},
     "output_type": "execute_result"
    }
   ],
   "source": [
    "np.char.replace(s1,'name', 'sirname')"
   ]
  },
  {
   "cell_type": "code",
   "execution_count": 260,
   "id": "cdaf1fbb-7730-4e6c-b1a7-d8432862259a",
   "metadata": {},
   "outputs": [
    {
     "name": "stdout",
     "output_type": "stream",
     "text": [
      "********Hello********\n"
     ]
    }
   ],
   "source": [
    "print('********Hello********')"
   ]
  },
  {
   "cell_type": "code",
   "execution_count": 261,
   "id": "d543a6e5-89fe-441b-a1b9-3ff4d054609c",
   "metadata": {},
   "outputs": [
    {
     "name": "stdout",
     "output_type": "stream",
     "text": [
      "*************************************Hello**************************************\n"
     ]
    }
   ],
   "source": [
    "print(np.char.center('Hello', 80,'*'))"
   ]
  }
 ],
 "metadata": {
  "kernelspec": {
   "display_name": "Python 3 (ipykernel)",
   "language": "python",
   "name": "python3"
  },
  "language_info": {
   "codemirror_mode": {
    "name": "ipython",
    "version": 3
   },
   "file_extension": ".py",
   "mimetype": "text/x-python",
   "name": "python",
   "nbconvert_exporter": "python",
   "pygments_lexer": "ipython3",
   "version": "3.11.9"
  }
 },
 "nbformat": 4,
 "nbformat_minor": 5
}
